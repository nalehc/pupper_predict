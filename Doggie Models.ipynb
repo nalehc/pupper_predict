{
 "cells": [
  {
   "cell_type": "code",
   "execution_count": 2,
   "metadata": {},
   "outputs": [],
   "source": [
    "import psycopg2 as pg\n",
    "import pandas as pd\n",
    "import pandas.io.sql as pd_sql\n",
    "import warnings\n",
    "warnings.filterwarnings(\"ignore\", category=DeprecationWarning)\n",
    "from sklearn.preprocessing import StandardScaler\n",
    "import matplotlib.pyplot as plt\n",
    "plt.style.use('metis')\n",
    "import numpy as np\n",
    "from sklearn.preprocessing import label_binarize\n",
    "from sklearn.metrics import roc_auc_score, precision_recall_curve, make_scorer, recall_score, accuracy_score, f1_score, precision_score, confusion_matrix\n",
    "from sklearn.neighbors import KNeighborsClassifier\n",
    "from sklearn import metrics\n",
    "from sklearn.model_selection import train_test_split\n",
    "import seaborn as sns\n",
    "from sklearn.model_selection import GridSearchCV\n",
    "from sklearn.linear_model import LogisticRegression\n",
    "from sklearn import svm\n",
    "from sklearn.tree import DecisionTreeClassifier\n",
    "from sklearn import tree\n",
    "from graphviz import Source\n",
    "from IPython.display import SVG\n",
    "from sklearn.ensemble import RandomForestClassifier\n",
    "from sklearn.model_selection import RandomizedSearchCV\n",
    "from sklearn.naive_bayes import GaussianNB\n",
    "from sklearn.svm import SVC\n",
    "from sklearn.ensemble import VotingClassifier"
   ]
  },
  {
   "cell_type": "code",
   "execution_count": 3,
   "metadata": {},
   "outputs": [],
   "source": [
    "#Connection to AWS postgres host\n",
    "connection_args = {\n",
    "    'host': '52.53.162.215',\n",
    "    'user': 'ubuntu',    \n",
    "    'dbname': 'pets',   \n",
    "    'port': 5432         \n",
    "}\n",
    "\n",
    "connection = pg.connect(**connection_args)"
   ]
  },
  {
   "cell_type": "code",
   "execution_count": 4,
   "metadata": {},
   "outputs": [],
   "source": [
    "#Querying DB for relevent cols\n",
    "pupper_query = \"SELECT data.outcome_type,data.color,data.days_in_shelter,data.age,data.is_female,data.big,raw_data.intake_condition FROM data INNER JOIN raw_data ON data.animal_id=raw_data.animal_id WHERE data.type = '1' AND (data.outcome_type = 'ADOPTION' or data.outcome_type ='EUTHANIZE');\"\n",
    "\n",
    "model_df = pd_sql.read_sql(pupper_query, connection)"
   ]
  },
  {
   "cell_type": "code",
   "execution_count": 5,
   "metadata": {},
   "outputs": [
    {
     "data": {
      "text/html": [
       "<div>\n",
       "<style scoped>\n",
       "    .dataframe tbody tr th:only-of-type {\n",
       "        vertical-align: middle;\n",
       "    }\n",
       "\n",
       "    .dataframe tbody tr th {\n",
       "        vertical-align: top;\n",
       "    }\n",
       "\n",
       "    .dataframe thead th {\n",
       "        text-align: right;\n",
       "    }\n",
       "</style>\n",
       "<table border=\"1\" class=\"dataframe\">\n",
       "  <thead>\n",
       "    <tr style=\"text-align: right;\">\n",
       "      <th></th>\n",
       "      <th>outcome_type</th>\n",
       "      <th>color</th>\n",
       "      <th>days_in_shelter</th>\n",
       "      <th>age</th>\n",
       "      <th>is_female</th>\n",
       "      <th>big</th>\n",
       "      <th>intake_condition</th>\n",
       "    </tr>\n",
       "  </thead>\n",
       "  <tbody>\n",
       "    <tr>\n",
       "      <th>0</th>\n",
       "      <td>ADOPTION</td>\n",
       "      <td>0</td>\n",
       "      <td>52</td>\n",
       "      <td>7.961833576</td>\n",
       "      <td>1</td>\n",
       "      <td>1</td>\n",
       "      <td>TREATABLE/REHAB</td>\n",
       "    </tr>\n",
       "    <tr>\n",
       "      <th>1</th>\n",
       "      <td>ADOPTION</td>\n",
       "      <td>0</td>\n",
       "      <td>16</td>\n",
       "      <td>1.998672115</td>\n",
       "      <td>1</td>\n",
       "      <td>1</td>\n",
       "      <td>HEALTHY</td>\n",
       "    </tr>\n",
       "    <tr>\n",
       "      <th>2</th>\n",
       "      <td>EUTHANIZE</td>\n",
       "      <td>0</td>\n",
       "      <td>34</td>\n",
       "      <td>5.952209833</td>\n",
       "      <td>1</td>\n",
       "      <td>1</td>\n",
       "      <td>UNTREATABLE</td>\n",
       "    </tr>\n",
       "    <tr>\n",
       "      <th>3</th>\n",
       "      <td>ADOPTION</td>\n",
       "      <td>0</td>\n",
       "      <td>212</td>\n",
       "      <td>4.974777032</td>\n",
       "      <td>0</td>\n",
       "      <td>1</td>\n",
       "      <td>TREATABLE/REHAB</td>\n",
       "    </tr>\n",
       "    <tr>\n",
       "      <th>4</th>\n",
       "      <td>ADOPTION</td>\n",
       "      <td>0</td>\n",
       "      <td>11</td>\n",
       "      <td>3.531900039</td>\n",
       "      <td>0</td>\n",
       "      <td>0</td>\n",
       "      <td>TREATABLE/MANAGEABLE</td>\n",
       "    </tr>\n",
       "  </tbody>\n",
       "</table>\n",
       "</div>"
      ],
      "text/plain": [
       "  outcome_type color days_in_shelter          age is_female big  \\\n",
       "0     ADOPTION     0              52  7.961833576         1   1   \n",
       "1     ADOPTION     0              16  1.998672115         1   1   \n",
       "2    EUTHANIZE     0              34  5.952209833         1   1   \n",
       "3     ADOPTION     0             212  4.974777032         0   1   \n",
       "4     ADOPTION     0              11  3.531900039         0   0   \n",
       "\n",
       "       intake_condition  \n",
       "0       TREATABLE/REHAB  \n",
       "1               HEALTHY  \n",
       "2           UNTREATABLE  \n",
       "3       TREATABLE/REHAB  \n",
       "4  TREATABLE/MANAGEABLE  "
      ]
     },
     "execution_count": 5,
     "metadata": {},
     "output_type": "execute_result"
    }
   ],
   "source": [
    "model_df.head()"
   ]
  },
  {
   "cell_type": "code",
   "execution_count": 6,
   "metadata": {},
   "outputs": [],
   "source": [
    "model_df.dropna(0, inplace=True)"
   ]
  },
  {
   "cell_type": "code",
   "execution_count": 7,
   "metadata": {},
   "outputs": [
    {
     "data": {
      "text/plain": [
       "ADOPTION     3016\n",
       "EUTHANIZE    1158\n",
       "Name: outcome_type, dtype: int64"
      ]
     },
     "execution_count": 7,
     "metadata": {},
     "output_type": "execute_result"
    }
   ],
   "source": [
    "#Check that our outcomes are not too unbalanced\n",
    "model_df['outcome_type'].value_counts()"
   ]
  },
  {
   "cell_type": "code",
   "execution_count": 8,
   "metadata": {},
   "outputs": [],
   "source": [
    "#Binary value mapping for intake condition 1 will be healthy\n",
    "model_df.loc[model_df.intake_condition != 'HEALTHY', 'healthy'] = 0\n",
    "model_df.loc[model_df.intake_condition == 'HEALTHY', 'healthy'] = 1"
   ]
  },
  {
   "cell_type": "code",
   "execution_count": 9,
   "metadata": {},
   "outputs": [
    {
     "data": {
      "text/html": [
       "<div>\n",
       "<style scoped>\n",
       "    .dataframe tbody tr th:only-of-type {\n",
       "        vertical-align: middle;\n",
       "    }\n",
       "\n",
       "    .dataframe tbody tr th {\n",
       "        vertical-align: top;\n",
       "    }\n",
       "\n",
       "    .dataframe thead th {\n",
       "        text-align: right;\n",
       "    }\n",
       "</style>\n",
       "<table border=\"1\" class=\"dataframe\">\n",
       "  <thead>\n",
       "    <tr style=\"text-align: right;\">\n",
       "      <th></th>\n",
       "      <th>outcome_type</th>\n",
       "      <th>color</th>\n",
       "      <th>days_in_shelter</th>\n",
       "      <th>age</th>\n",
       "      <th>is_female</th>\n",
       "      <th>big</th>\n",
       "      <th>intake_condition</th>\n",
       "      <th>healthy</th>\n",
       "    </tr>\n",
       "  </thead>\n",
       "  <tbody>\n",
       "    <tr>\n",
       "      <th>0</th>\n",
       "      <td>ADOPTION</td>\n",
       "      <td>0</td>\n",
       "      <td>52</td>\n",
       "      <td>7.961833576</td>\n",
       "      <td>1</td>\n",
       "      <td>1</td>\n",
       "      <td>TREATABLE/REHAB</td>\n",
       "      <td>0.0</td>\n",
       "    </tr>\n",
       "    <tr>\n",
       "      <th>1</th>\n",
       "      <td>ADOPTION</td>\n",
       "      <td>0</td>\n",
       "      <td>16</td>\n",
       "      <td>1.998672115</td>\n",
       "      <td>1</td>\n",
       "      <td>1</td>\n",
       "      <td>HEALTHY</td>\n",
       "      <td>1.0</td>\n",
       "    </tr>\n",
       "    <tr>\n",
       "      <th>2</th>\n",
       "      <td>EUTHANIZE</td>\n",
       "      <td>0</td>\n",
       "      <td>34</td>\n",
       "      <td>5.952209833</td>\n",
       "      <td>1</td>\n",
       "      <td>1</td>\n",
       "      <td>UNTREATABLE</td>\n",
       "      <td>0.0</td>\n",
       "    </tr>\n",
       "    <tr>\n",
       "      <th>3</th>\n",
       "      <td>ADOPTION</td>\n",
       "      <td>0</td>\n",
       "      <td>212</td>\n",
       "      <td>4.974777032</td>\n",
       "      <td>0</td>\n",
       "      <td>1</td>\n",
       "      <td>TREATABLE/REHAB</td>\n",
       "      <td>0.0</td>\n",
       "    </tr>\n",
       "    <tr>\n",
       "      <th>4</th>\n",
       "      <td>ADOPTION</td>\n",
       "      <td>0</td>\n",
       "      <td>11</td>\n",
       "      <td>3.531900039</td>\n",
       "      <td>0</td>\n",
       "      <td>0</td>\n",
       "      <td>TREATABLE/MANAGEABLE</td>\n",
       "      <td>0.0</td>\n",
       "    </tr>\n",
       "  </tbody>\n",
       "</table>\n",
       "</div>"
      ],
      "text/plain": [
       "  outcome_type color days_in_shelter          age is_female big  \\\n",
       "0     ADOPTION     0              52  7.961833576         1   1   \n",
       "1     ADOPTION     0              16  1.998672115         1   1   \n",
       "2    EUTHANIZE     0              34  5.952209833         1   1   \n",
       "3     ADOPTION     0             212  4.974777032         0   1   \n",
       "4     ADOPTION     0              11  3.531900039         0   0   \n",
       "\n",
       "       intake_condition  healthy  \n",
       "0       TREATABLE/REHAB      0.0  \n",
       "1               HEALTHY      1.0  \n",
       "2           UNTREATABLE      0.0  \n",
       "3       TREATABLE/REHAB      0.0  \n",
       "4  TREATABLE/MANAGEABLE      0.0  "
      ]
     },
     "execution_count": 9,
     "metadata": {},
     "output_type": "execute_result"
    }
   ],
   "source": [
    "model_df.head()"
   ]
  },
  {
   "cell_type": "code",
   "execution_count": 10,
   "metadata": {},
   "outputs": [],
   "source": [
    "#Encode for outcomes(1 = euthanized)\n",
    "encoded_column_vector = label_binarize(model_df['outcome_type'], classes=['ADOPTION', 'EUTHANIZE']) \n",
    "encoded_labels = np.ravel(encoded_column_vector)\n",
    "X = model_df[['color','days_in_shelter','age','is_female','big', 'healthy']]\n",
    "y = encoded_labels"
   ]
  },
  {
   "cell_type": "code",
   "execution_count": 11,
   "metadata": {},
   "outputs": [],
   "source": [
    "X_train, X_test, y_train, y_test = train_test_split(X, y, test_size=0.3, random_state = 1838425944)\n",
    "ssX = StandardScaler()\n",
    "X_train_scaled = ssX.fit_transform(X_train)\n",
    "X_test_scaled  = ssX.transform(X_test) "
   ]
  },
  {
   "cell_type": "code",
   "execution_count": 12,
   "metadata": {},
   "outputs": [],
   "source": [
    "#Decision Tree\n",
    "estimator = DecisionTreeClassifier(random_state = 1838425944) \n",
    "estimator.fit(X_train,y_train)\n",
    "estimator.score(X_train,y_train)\n",
    "graph_options = {\n",
    "    'feature_names': X.columns,\n",
    "    'class_names': ['Adoption', 'Euthanize'],\n",
    "    'out_file': 'tree.svg',\n",
    "    'filled': True,\n",
    "    'rounded': True\n",
    "}\n",
    "\n",
    "graphviz_code = Source(tree.export_graphviz(estimator, **graph_options))"
   ]
  },
  {
   "cell_type": "code",
   "execution_count": 13,
   "metadata": {
    "scrolled": true
   },
   "outputs": [
    {
     "name": "stdout",
     "output_type": "stream",
     "text": [
      "0.7881:  healthy\n",
      "0.1933:  days_in_shelter\n",
      "0.0186:  age\n",
      "0.0000:  is_female\n",
      "0.0000:  color\n",
      "0.0000:  big\n"
     ]
    }
   ],
   "source": [
    "my_tree = DecisionTreeClassifier(random_state = 1838425944)\n",
    "\n",
    "params = {\n",
    "    'max_depth': [1,2,3],\n",
    "    'min_samples_leaf': [1, 2, 3, 4, 5]\n",
    "}\n",
    "\n",
    "grid = GridSearchCV(my_tree, param_grid=params, scoring='f1', cv=10)\n",
    "grid.fit(X_train,y_train)\n",
    "\n",
    "importances = sorted(zip(grid.best_estimator_.feature_importances_, X.columns), reverse=True)\n",
    "\n",
    "for importance, name in importances:\n",
    "    print(f'{importance:6.4f}:  {name}')"
   ]
  },
  {
   "cell_type": "code",
   "execution_count": 14,
   "metadata": {},
   "outputs": [],
   "source": [
    "#Stupid Baseline Model\n",
    "records = list(X_train['color'])\n",
    "num_euth = []\n",
    "for i in range(len(records)):\n",
    "    num_euth.append(1)\n",
    "stupid_confusion = confusion_matrix(y_train, num_euth)\n",
    "sns.heatmap(stupid_confusion, annot=True, cmap='RdYlGn', square=True, fmt='d',\n",
    "           xticklabels=['EUTHANIZE', 'ADOPTION'],\n",
    "           yticklabels=['EUTHANIZE', 'ADOPTION']);\n",
    "plt.xlabel('prediction')\n",
    "plt.ylabel('actual')\n",
    "plt.savefig('stupid confusion.png', bbox_inches=\"tight\", dpi=1000)"
   ]
  },
  {
   "cell_type": "code",
   "execution_count": 15,
   "metadata": {},
   "outputs": [
    {
     "data": {
      "text/plain": [
       "0.4291476203280452"
      ]
     },
     "execution_count": 15,
     "metadata": {},
     "output_type": "execute_result"
    }
   ],
   "source": [
    "f1_score(y_train, (num_euth))"
   ]
  },
  {
   "cell_type": "code",
   "execution_count": 27,
   "metadata": {
    "scrolled": false
   },
   "outputs": [
    {
     "name": "stdout",
     "output_type": "stream",
     "text": [
      "knn: best score: 0.6540424086379024\n"
     ]
    },
    {
     "name": "stderr",
     "output_type": "stream",
     "text": [
      "/Users/chelan/anaconda3/lib/python3.6/site-packages/sklearn/metrics/classification.py:1135: UndefinedMetricWarning: F-score is ill-defined and being set to 0.0 due to no predicted samples.\n",
      "  'precision', 'predicted', average, warn_for)\n",
      "/Users/chelan/anaconda3/lib/python3.6/site-packages/sklearn/metrics/classification.py:1135: UndefinedMetricWarning: F-score is ill-defined and being set to 0.0 due to no predicted samples.\n",
      "  'precision', 'predicted', average, warn_for)\n",
      "/Users/chelan/anaconda3/lib/python3.6/site-packages/sklearn/metrics/classification.py:1135: UndefinedMetricWarning: F-score is ill-defined and being set to 0.0 due to no predicted samples.\n",
      "  'precision', 'predicted', average, warn_for)\n"
     ]
    },
    {
     "name": "stdout",
     "output_type": "stream",
     "text": [
      "logistic: best score: 0.7074846632888584\n",
      "tree: best score: 0.7089588383062096\n"
     ]
    },
    {
     "name": "stderr",
     "output_type": "stream",
     "text": [
      "/Users/chelan/anaconda3/lib/python3.6/site-packages/sklearn/metrics/classification.py:1135: UndefinedMetricWarning: F-score is ill-defined and being set to 0.0 due to no predicted samples.\n",
      "  'precision', 'predicted', average, warn_for)\n",
      "/Users/chelan/anaconda3/lib/python3.6/site-packages/sklearn/metrics/classification.py:1135: UndefinedMetricWarning: F-score is ill-defined and being set to 0.0 due to no predicted samples.\n",
      "  'precision', 'predicted', average, warn_for)\n",
      "/Users/chelan/anaconda3/lib/python3.6/site-packages/sklearn/metrics/classification.py:1135: UndefinedMetricWarning: F-score is ill-defined and being set to 0.0 due to no predicted samples.\n",
      "  'precision', 'predicted', average, warn_for)\n",
      "/Users/chelan/anaconda3/lib/python3.6/site-packages/sklearn/metrics/classification.py:1135: UndefinedMetricWarning: F-score is ill-defined and being set to 0.0 due to no predicted samples.\n",
      "  'precision', 'predicted', average, warn_for)\n",
      "/Users/chelan/anaconda3/lib/python3.6/site-packages/sklearn/metrics/classification.py:1135: UndefinedMetricWarning: F-score is ill-defined and being set to 0.0 due to no predicted samples.\n",
      "  'precision', 'predicted', average, warn_for)\n",
      "/Users/chelan/anaconda3/lib/python3.6/site-packages/sklearn/metrics/classification.py:1135: UndefinedMetricWarning: F-score is ill-defined and being set to 0.0 due to no predicted samples.\n",
      "  'precision', 'predicted', average, warn_for)\n",
      "/Users/chelan/anaconda3/lib/python3.6/site-packages/sklearn/metrics/classification.py:1135: UndefinedMetricWarning: F-score is ill-defined and being set to 0.0 due to no predicted samples.\n",
      "  'precision', 'predicted', average, warn_for)\n",
      "/Users/chelan/anaconda3/lib/python3.6/site-packages/sklearn/metrics/classification.py:1135: UndefinedMetricWarning: F-score is ill-defined and being set to 0.0 due to no predicted samples.\n",
      "  'precision', 'predicted', average, warn_for)\n",
      "/Users/chelan/anaconda3/lib/python3.6/site-packages/sklearn/metrics/classification.py:1135: UndefinedMetricWarning: F-score is ill-defined and being set to 0.0 due to no predicted samples.\n",
      "  'precision', 'predicted', average, warn_for)\n"
     ]
    },
    {
     "name": "stdout",
     "output_type": "stream",
     "text": [
      "forest: best score: 0.7053151390557522\n"
     ]
    }
   ],
   "source": [
    "models = [('knn', KNeighborsClassifier), \n",
    "          ('logistic', LogisticRegression),\n",
    "          ('tree', DecisionTreeClassifier),\n",
    "          ('forest', RandomForestClassifier)\n",
    "         ]\n",
    "\n",
    "param_choices = [\n",
    "    {\n",
    "        'n_neighbors': range(1, 12)\n",
    "    },\n",
    "    {\n",
    "        'C': np.logspace(-3,6, 12),\n",
    "        'penalty': ['l1', 'l2'],\n",
    "        'random_state': [1838425944]\n",
    "    },\n",
    "    {\n",
    "        'max_depth': [1,2,3,4,5],\n",
    "        'min_samples_leaf': [3,6,10], \n",
    "        'random_state': [1838425944]\n",
    "    },\n",
    "    {\n",
    "        'n_estimators': [50, 100, 200],\n",
    "        'max_depth': [1,2,3,4,5],\n",
    "        'min_samples_leaf': [3,6,10], \n",
    "        'random_state': [1838425944]\n",
    "    }\n",
    "]\n",
    "\n",
    "grids = {}\n",
    "for model_info, params in zip(models, param_choices):\n",
    "    name, model = model_info\n",
    "    grid = GridSearchCV(model(), params, scoring = 'f1')\n",
    "    grid.fit(X_train[['age', 'days_in_shelter', 'healthy']], y_train)\n",
    "    s = f\"{name}: best score: {grid.best_score_}\"\n",
    "    print(s)\n",
    "    grids[name] = grid"
   ]
  },
  {
   "cell_type": "code",
   "execution_count": 17,
   "metadata": {},
   "outputs": [
    {
     "data": {
      "text/plain": [
       "{'n_neighbors': 3}"
      ]
     },
     "execution_count": 17,
     "metadata": {},
     "output_type": "execute_result"
    }
   ],
   "source": [
    "grids['knn'].best_params_"
   ]
  },
  {
   "cell_type": "code",
   "execution_count": 18,
   "metadata": {},
   "outputs": [
    {
     "data": {
      "text/plain": [
       "{'C': 0.2848035868435802, 'penalty': 'l2', 'random_state': 1838425944}"
      ]
     },
     "execution_count": 18,
     "metadata": {},
     "output_type": "execute_result"
    }
   ],
   "source": [
    "grids['logistic'].best_params_"
   ]
  },
  {
   "cell_type": "code",
   "execution_count": 19,
   "metadata": {},
   "outputs": [
    {
     "data": {
      "text/plain": [
       "{'max_depth': 4, 'min_samples_leaf': 10, 'random_state': 1838425944}"
      ]
     },
     "execution_count": 19,
     "metadata": {},
     "output_type": "execute_result"
    }
   ],
   "source": [
    "grids['tree'].best_params_"
   ]
  },
  {
   "cell_type": "code",
   "execution_count": 20,
   "metadata": {},
   "outputs": [
    {
     "data": {
      "text/plain": [
       "{'max_depth': 4,\n",
       " 'min_samples_leaf': 3,\n",
       " 'n_estimators': 50,\n",
       " 'random_state': 1838425944}"
      ]
     },
     "execution_count": 20,
     "metadata": {},
     "output_type": "execute_result"
    }
   ],
   "source": [
    "grids['forest'].best_params_"
   ]
  },
  {
   "cell_type": "code",
   "execution_count": 21,
   "metadata": {},
   "outputs": [
    {
     "data": {
      "text/plain": [
       "0.6939704209328782"
      ]
     },
     "execution_count": 21,
     "metadata": {},
     "output_type": "execute_result"
    }
   ],
   "source": [
    "#Bayes\n",
    "model_bayes = GaussianNB()\n",
    "model_bayes.fit(X_train[['age', 'days_in_shelter', 'healthy']], y_train)\n",
    "predictions = model_bayes.predict(X_train[['age', 'days_in_shelter', 'healthy']])\n",
    "f1_score(y_train, predictions)"
   ]
  },
  {
   "cell_type": "code",
   "execution_count": 22,
   "metadata": {},
   "outputs": [
    {
     "data": {
      "text/plain": [
       "0.8211488250652742"
      ]
     },
     "execution_count": 22,
     "metadata": {},
     "output_type": "execute_result"
    }
   ],
   "source": [
    "model_svc = SVC(C=10, random_state = 1838425944)\n",
    "model_svc.fit(X_train[['age', 'days_in_shelter', 'healthy']], y_train)\n",
    "predictions = model_svc.predict(X_train[['age', 'days_in_shelter', 'healthy']])\n",
    "f1_score(y_train, predictions)"
   ]
  },
  {
   "cell_type": "code",
   "execution_count": 26,
   "metadata": {},
   "outputs": [
    {
     "name": "stderr",
     "output_type": "stream",
     "text": [
      "/Users/chelan/anaconda3/lib/python3.6/site-packages/sklearn/metrics/classification.py:1135: UndefinedMetricWarning: F-score is ill-defined and being set to 0.0 due to no predicted samples.\n",
      "  'precision', 'predicted', average, warn_for)\n",
      "/Users/chelan/anaconda3/lib/python3.6/site-packages/sklearn/metrics/classification.py:1135: UndefinedMetricWarning: F-score is ill-defined and being set to 0.0 due to no predicted samples.\n",
      "  'precision', 'predicted', average, warn_for)\n",
      "/Users/chelan/anaconda3/lib/python3.6/site-packages/sklearn/metrics/classification.py:1135: UndefinedMetricWarning: F-score is ill-defined and being set to 0.0 due to no predicted samples.\n",
      "  'precision', 'predicted', average, warn_for)\n",
      "/Users/chelan/anaconda3/lib/python3.6/site-packages/sklearn/metrics/classification.py:1135: UndefinedMetricWarning: F-score is ill-defined and being set to 0.0 due to no predicted samples.\n",
      "  'precision', 'predicted', average, warn_for)\n",
      "/Users/chelan/anaconda3/lib/python3.6/site-packages/sklearn/metrics/classification.py:1135: UndefinedMetricWarning: F-score is ill-defined and being set to 0.0 due to no predicted samples.\n",
      "  'precision', 'predicted', average, warn_for)\n",
      "/Users/chelan/anaconda3/lib/python3.6/site-packages/sklearn/metrics/classification.py:1135: UndefinedMetricWarning: F-score is ill-defined and being set to 0.0 due to no predicted samples.\n",
      "  'precision', 'predicted', average, warn_for)\n",
      "/Users/chelan/anaconda3/lib/python3.6/site-packages/sklearn/metrics/classification.py:1135: UndefinedMetricWarning: F-score is ill-defined and being set to 0.0 due to no predicted samples.\n",
      "  'precision', 'predicted', average, warn_for)\n",
      "/Users/chelan/anaconda3/lib/python3.6/site-packages/sklearn/metrics/classification.py:1135: UndefinedMetricWarning: F-score is ill-defined and being set to 0.0 due to no predicted samples.\n",
      "  'precision', 'predicted', average, warn_for)\n",
      "/Users/chelan/anaconda3/lib/python3.6/site-packages/sklearn/metrics/classification.py:1135: UndefinedMetricWarning: F-score is ill-defined and being set to 0.0 due to no predicted samples.\n",
      "  'precision', 'predicted', average, warn_for)\n",
      "/Users/chelan/anaconda3/lib/python3.6/site-packages/sklearn/metrics/classification.py:1135: UndefinedMetricWarning: F-score is ill-defined and being set to 0.0 due to no predicted samples.\n",
      "  'precision', 'predicted', average, warn_for)\n",
      "/Users/chelan/anaconda3/lib/python3.6/site-packages/sklearn/metrics/classification.py:1135: UndefinedMetricWarning: F-score is ill-defined and being set to 0.0 due to no predicted samples.\n",
      "  'precision', 'predicted', average, warn_for)\n",
      "/Users/chelan/anaconda3/lib/python3.6/site-packages/sklearn/metrics/classification.py:1135: UndefinedMetricWarning: F-score is ill-defined and being set to 0.0 due to no predicted samples.\n",
      "  'precision', 'predicted', average, warn_for)\n",
      "/Users/chelan/anaconda3/lib/python3.6/site-packages/sklearn/preprocessing/label.py:151: DeprecationWarning: The truth value of an empty array is ambiguous. Returning False, but in future this will result in an error. Use `array.size > 0` to check that an array is not empty.\n",
      "  if diff:\n"
     ]
    },
    {
     "data": {
      "text/plain": [
       "0.7351627313337588"
      ]
     },
     "execution_count": 26,
     "metadata": {},
     "output_type": "execute_result"
    }
   ],
   "source": [
    "eclf = VotingClassifier(estimators=[('knn', grids['knn']), ('lr', grids['logistic']), ('bayes',model_bayes), ('svc', model_svc),('d_tree', grids['tree']), ('random_forest', grids['forest'])])\n",
    "eclf.fit(X_train[['age', 'days_in_shelter', 'healthy']], y_train)\n",
    "pred_vals = eclf.predict(X_train[['age', 'days_in_shelter', 'healthy']])\n",
    "f1_score(y_train,pred_vals)"
   ]
  },
  {
   "cell_type": "code",
   "execution_count": 27,
   "metadata": {},
   "outputs": [
    {
     "name": "stderr",
     "output_type": "stream",
     "text": [
      "/Users/chelan/anaconda3/lib/python3.6/site-packages/sklearn/preprocessing/label.py:151: DeprecationWarning: The truth value of an empty array is ambiguous. Returning False, but in future this will result in an error. Use `array.size > 0` to check that an array is not empty.\n",
      "  if diff:\n"
     ]
    },
    {
     "data": {
      "text/plain": [
       "0.7527579493835171"
      ]
     },
     "execution_count": 27,
     "metadata": {},
     "output_type": "execute_result"
    }
   ],
   "source": [
    "eclf = VotingClassifier(estimators=[('knn', KNeighborsClassifier(n_neighbors = 3)),('lr', LogisticRegression(C = 0.2848035868435802, penalty = 'l2', random_state = 1838425944)), ('bayes',GaussianNB()), \n",
    "                                    ('svc', SVC(C=10, probability=True, random_state = 1838425944)),('d_tree', DecisionTreeClassifier(max_depth = 4, min_samples_leaf = 10, random_state = 1838425944)), \n",
    "                                    ('random_forest', RandomForestClassifier(max_depth = 5, min_samples_leaf = 3, n_estimators = 50, random_state = 1838425944))],voting='soft')\n",
    "eclf.fit(X_train[['age', 'days_in_shelter', 'healthy']], y_train)\n",
    "pred_vals = eclf.predict(X_train[['age', 'days_in_shelter', 'healthy']])\n",
    "f1_score(y_train,pred_vals)"
   ]
  },
  {
   "cell_type": "code",
   "execution_count": 28,
   "metadata": {},
   "outputs": [
    {
     "name": "stderr",
     "output_type": "stream",
     "text": [
      "/Users/chelan/anaconda3/lib/python3.6/site-packages/sklearn/preprocessing/label.py:151: DeprecationWarning: The truth value of an empty array is ambiguous. Returning False, but in future this will result in an error. Use `array.size > 0` to check that an array is not empty.\n",
      "  if diff:\n"
     ]
    },
    {
     "data": {
      "text/plain": [
       "0.7048710601719197"
      ]
     },
     "execution_count": 28,
     "metadata": {},
     "output_type": "execute_result"
    }
   ],
   "source": [
    "pred_test = eclf.predict(X_test[['age', 'days_in_shelter', 'healthy']])\n",
    "f1_score(y_test,pred_test)"
   ]
  },
  {
   "cell_type": "code",
   "execution_count": 29,
   "metadata": {},
   "outputs": [
    {
     "data": {
      "text/plain": [
       "Pipeline(memory=None,\n",
       "     steps=[('scaler', StandardScaler(copy=True, with_mean=True, with_std=True)), ('ensemble_soft', VotingClassifier(estimators=[('knn', KNeighborsClassifier(algorithm='auto', leaf_size=30, metric='minkowski',\n",
       "           metric_params=None, n_jobs=1, n_neighbors=3, p=2,\n",
       "           weights='uniform')), ('...      warm_start=False))],\n",
       "         flatten_transform=None, n_jobs=1, voting='soft', weights=None))])"
      ]
     },
     "execution_count": 29,
     "metadata": {},
     "output_type": "execute_result"
    }
   ],
   "source": [
    "from sklearn.pipeline import Pipeline\n",
    "\n",
    "pipeline = Pipeline([('scaler', StandardScaler()),\n",
    "                     ('ensemble_soft', eclf)])\n",
    "\n",
    "pipeline.fit(X[['age', 'days_in_shelter', 'healthy']],y)"
   ]
  },
  {
   "cell_type": "code",
   "execution_count": 30,
   "metadata": {},
   "outputs": [],
   "source": [
    "import pickle\n",
    "\n",
    "pickle.dump(pipeline, open('model.pkl', 'wb'))"
   ]
  },
  {
   "cell_type": "code",
   "execution_count": 31,
   "metadata": {},
   "outputs": [],
   "source": [
    "example = {\n",
    "  'Age': 8,  \n",
    "  'Days in Shelter': 52,    \n",
    "  'Good Health': False,  \n",
    "}\n",
    "\n",
    "def make_prediction(features):\n",
    "    X = np.array([features['Age'], features['Days in Shelter'],int(features['Good Health'] == True)]).reshape(1,-1)\n",
    "    prob_euth = pipeline.predict_proba(X)[0, 1]\n",
    "    \n",
    "    result = {\n",
    "        'prediction': int(prob_euth > 0.5),\n",
    "        'prob_euthanization': prob_euth\n",
    "    }\n",
    "    return result"
   ]
  },
  {
   "cell_type": "code",
   "execution_count": 32,
   "metadata": {},
   "outputs": [
    {
     "name": "stderr",
     "output_type": "stream",
     "text": [
      "/Users/chelan/anaconda3/lib/python3.6/site-packages/sklearn/utils/validation.py:475: DataConversionWarning: Data with input dtype int64 was converted to float64 by StandardScaler.\n",
      "  warnings.warn(msg, DataConversionWarning)\n"
     ]
    },
    {
     "data": {
      "text/plain": [
       "{'prediction': 0, 'prob_euthanization': 0.39931227065440195}"
      ]
     },
     "execution_count": 32,
     "metadata": {},
     "output_type": "execute_result"
    }
   ],
   "source": [
    "make_prediction(example)"
   ]
  },
  {
   "cell_type": "code",
   "execution_count": null,
   "metadata": {},
   "outputs": [],
   "source": []
  }
 ],
 "metadata": {
  "kernelspec": {
   "display_name": "Python 3",
   "language": "python",
   "name": "python3"
  },
  "language_info": {
   "codemirror_mode": {
    "name": "ipython",
    "version": 3
   },
   "file_extension": ".py",
   "mimetype": "text/x-python",
   "name": "python",
   "nbconvert_exporter": "python",
   "pygments_lexer": "ipython3",
   "version": "3.6.3"
  }
 },
 "nbformat": 4,
 "nbformat_minor": 2
}
